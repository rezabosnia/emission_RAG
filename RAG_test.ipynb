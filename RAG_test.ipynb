{
 "cells": [
  {
   "cell_type": "markdown",
   "id": "10d4bb84-e1f3-4d2f-91c7-f960dad3c5be",
   "metadata": {},
   "source": [
    "# RAG Architecture Test"
   ]
  },
  {
   "cell_type": "markdown",
   "id": "05b47789-1d4d-4a4e-ba06-de9d18aa41f0",
   "metadata": {},
   "source": [
    "## Preparation"
   ]
  },
  {
   "cell_type": "markdown",
   "id": "17fa651a-b8f9-4c5a-ae23-c256b6de1ae2",
   "metadata": {},
   "source": [
    "### Import Libraries and Credentials"
   ]
  },
  {
   "cell_type": "code",
   "execution_count": 8,
   "id": "5673784d-07db-4c69-a43c-de5391e04a9f",
   "metadata": {},
   "outputs": [],
   "source": [
    "import os\n",
    "import config  # Import the config file\n",
    "import requests\n",
    "import duckdb\n",
    "import google.generativeai as genai\n",
    "import pandas as pd\n",
    "import numpy as np\n",
    "from sklearn.metrics.pairwise import cosine_similarity\n",
    "from sentence_transformers import SentenceTransformer\n",
    "\n",
    "# Set environment variables using values from config.py\n",
    "os.environ[\"gemini_api_key\"] = config.gemini_api\n",
    "# Environment variables for PostgreSQL connection\n",
    "gemini_api_key = os.getenv(\"gemini_api_key\")"
   ]
  },
  {
   "cell_type": "markdown",
   "id": "d28766ca-071f-4ebd-8769-b0a005c25671",
   "metadata": {},
   "source": [
    "### Download Prepared Data"
   ]
  },
  {
   "cell_type": "code",
   "execution_count": 6,
   "id": "81e7e05b-b916-4c47-9622-e74b279bec86",
   "metadata": {},
   "outputs": [
    {
     "data": {
      "text/html": [
       "<div>\n",
       "<style scoped>\n",
       "    .dataframe tbody tr th:only-of-type {\n",
       "        vertical-align: middle;\n",
       "    }\n",
       "\n",
       "    .dataframe tbody tr th {\n",
       "        vertical-align: top;\n",
       "    }\n",
       "\n",
       "    .dataframe thead th {\n",
       "        text-align: right;\n",
       "    }\n",
       "</style>\n",
       "<table border=\"1\" class=\"dataframe\">\n",
       "  <thead>\n",
       "    <tr style=\"text-align: right;\">\n",
       "      <th></th>\n",
       "      <th>rag_summary</th>\n",
       "      <th>embeddings</th>\n",
       "    </tr>\n",
       "  </thead>\n",
       "  <tbody>\n",
       "    <tr>\n",
       "      <th>0</th>\n",
       "      <td>[TYPE: CARBON DATA]\\nDocument: Full Carbon Dat...</td>\n",
       "      <td>[-0.022816572338342667, 0.0530795119702816, -0...</td>\n",
       "    </tr>\n",
       "    <tr>\n",
       "      <th>1</th>\n",
       "      <td>[TYPE: CARBON DATA]\\nDocument: Full Carbon Dat...</td>\n",
       "      <td>[-0.02335883118212223, 0.03286804258823395, -0...</td>\n",
       "    </tr>\n",
       "    <tr>\n",
       "      <th>2</th>\n",
       "      <td>[TYPE: CARBON DATA]\\nDocument: Full Carbon Dat...</td>\n",
       "      <td>[-0.023150034248828888, 0.03248152881860733, -...</td>\n",
       "    </tr>\n",
       "    <tr>\n",
       "      <th>3</th>\n",
       "      <td>[TYPE: CARBON DATA]\\nDocument: Full Carbon Dat...</td>\n",
       "      <td>[-0.018603665754199028, 0.04711500555276871, -...</td>\n",
       "    </tr>\n",
       "    <tr>\n",
       "      <th>4</th>\n",
       "      <td>[TYPE: CARBON DATA]\\nDocument: Full Carbon Dat...</td>\n",
       "      <td>[-0.02122417651116848, 0.041178856045007706, -...</td>\n",
       "    </tr>\n",
       "    <tr>\n",
       "      <th>...</th>\n",
       "      <td>...</td>\n",
       "      <td>...</td>\n",
       "    </tr>\n",
       "    <tr>\n",
       "      <th>5870</th>\n",
       "      <td>[TYPE: NEWS ARTICLE]\\nDocument: Climate &amp; Emis...</td>\n",
       "      <td>[0.04372638091444969, 0.07870461791753769, 0.0...</td>\n",
       "    </tr>\n",
       "    <tr>\n",
       "      <th>5871</th>\n",
       "      <td>[TYPE: NEWS ARTICLE]\\nDocument: Climate &amp; Emis...</td>\n",
       "      <td>[-0.016487013548612595, -0.07614518702030182, ...</td>\n",
       "    </tr>\n",
       "    <tr>\n",
       "      <th>5872</th>\n",
       "      <td>[TYPE: NEWS ARTICLE]\\nDocument: Climate &amp; Emis...</td>\n",
       "      <td>[0.01761428453028202, 0.03581300377845764, 0.0...</td>\n",
       "    </tr>\n",
       "    <tr>\n",
       "      <th>5873</th>\n",
       "      <td>[TYPE: NEWS ARTICLE]\\nDocument: Climate &amp; Emis...</td>\n",
       "      <td>[0.012168467044830322, -0.0007799360901117325,...</td>\n",
       "    </tr>\n",
       "    <tr>\n",
       "      <th>5874</th>\n",
       "      <td>[TYPE: NEWS ARTICLE]\\nDocument: Climate &amp; Emis...</td>\n",
       "      <td>[-0.01591029390692711, 0.07625839859247208, 0....</td>\n",
       "    </tr>\n",
       "  </tbody>\n",
       "</table>\n",
       "<p>5875 rows × 2 columns</p>\n",
       "</div>"
      ],
      "text/plain": [
       "                                            rag_summary  \\\n",
       "0     [TYPE: CARBON DATA]\\nDocument: Full Carbon Dat...   \n",
       "1     [TYPE: CARBON DATA]\\nDocument: Full Carbon Dat...   \n",
       "2     [TYPE: CARBON DATA]\\nDocument: Full Carbon Dat...   \n",
       "3     [TYPE: CARBON DATA]\\nDocument: Full Carbon Dat...   \n",
       "4     [TYPE: CARBON DATA]\\nDocument: Full Carbon Dat...   \n",
       "...                                                 ...   \n",
       "5870  [TYPE: NEWS ARTICLE]\\nDocument: Climate & Emis...   \n",
       "5871  [TYPE: NEWS ARTICLE]\\nDocument: Climate & Emis...   \n",
       "5872  [TYPE: NEWS ARTICLE]\\nDocument: Climate & Emis...   \n",
       "5873  [TYPE: NEWS ARTICLE]\\nDocument: Climate & Emis...   \n",
       "5874  [TYPE: NEWS ARTICLE]\\nDocument: Climate & Emis...   \n",
       "\n",
       "                                             embeddings  \n",
       "0     [-0.022816572338342667, 0.0530795119702816, -0...  \n",
       "1     [-0.02335883118212223, 0.03286804258823395, -0...  \n",
       "2     [-0.023150034248828888, 0.03248152881860733, -...  \n",
       "3     [-0.018603665754199028, 0.04711500555276871, -...  \n",
       "4     [-0.02122417651116848, 0.041178856045007706, -...  \n",
       "...                                                 ...  \n",
       "5870  [0.04372638091444969, 0.07870461791753769, 0.0...  \n",
       "5871  [-0.016487013548612595, -0.07614518702030182, ...  \n",
       "5872  [0.01761428453028202, 0.03581300377845764, 0.0...  \n",
       "5873  [0.012168467044830322, -0.0007799360901117325,...  \n",
       "5874  [-0.01591029390692711, 0.07625839859247208, 0....  \n",
       "\n",
       "[5875 rows x 2 columns]"
      ]
     },
     "execution_count": 6,
     "metadata": {},
     "output_type": "execute_result"
    }
   ],
   "source": [
    "# 1. Connect to (or create) the DuckDB database\n",
    "con = duckdb.connect(\"combined_emission_data.duckdb\")\n",
    "\n",
    "\n",
    "df_prepared_data = con.execute(\"SELECT * FROM combined_data\").fetchdf()\n",
    "\n",
    "\n",
    "con.close()\n",
    "\n",
    "df_prepared_data"
   ]
  },
  {
   "cell_type": "markdown",
   "id": "6217502b-402d-4834-9d5a-72973141c485",
   "metadata": {},
   "source": [
    "## Run the RAG"
   ]
  },
  {
   "cell_type": "markdown",
   "id": "655daa75-6483-46f8-9a89-ff7decd6fcac",
   "metadata": {},
   "source": [
    "## Define LLM Model"
   ]
  },
  {
   "cell_type": "code",
   "execution_count": 14,
   "id": "9428f559-5eff-4aa7-878b-047f0892b5e7",
   "metadata": {},
   "outputs": [],
   "source": [
    "# Replace with your API key\n",
    "genai.configure(api_key=gemini_api_key)\n",
    "\n",
    "model = genai.GenerativeModel(\"gemini-1.5-flash\")\n"
   ]
  },
  {
   "cell_type": "markdown",
   "id": "c0484c37-ef37-44eb-b574-64191b765fbf",
   "metadata": {},
   "source": [
    "## Define the RAG Functions"
   ]
  },
  {
   "cell_type": "code",
   "execution_count": 15,
   "id": "173501fd-cb44-42ef-ac6f-98eac22c29ac",
   "metadata": {},
   "outputs": [],
   "source": [
    "embedder = SentenceTransformer('all-MiniLM-L6-v2')\n",
    "\n",
    "document_embeddings = np.vstack(df_prepared_data[\"embeddings\"].to_numpy())\n",
    "\n",
    "def retrieve_context(query, top_k=3):\n",
    "    query_embedding = embedder.encode([query])\n",
    "    similarities = cosine_similarity(query_embedding, document_embeddings)[0]\n",
    "    top_indices = similarities.argsort()[-top_k:][::-1]\n",
    "    return df_prepared_data['rag_summary'].iloc[top_indices].tolist()\n",
    "\n",
    "def build_prompt(contexts, query):\n",
    "    context_text = \"\\n\".join(f\"- {ctx}\" for ctx in contexts)\n",
    "    return f\"\"\"You are a helpful assistant. Use the following context to answer the question.\n",
    "\n",
    "Context:\n",
    "{context_text}\n",
    "\n",
    "Question: {query}\n",
    "Answer:\"\"\"\n",
    "\n",
    "def ask_rag_with_gemini(query):\n",
    "    contexts = retrieve_context(query)\n",
    "    prompt = build_prompt(contexts, query)\n",
    "    response = model.generate_content(prompt)\n",
    "    return response.text.strip()\n"
   ]
  },
  {
   "cell_type": "markdown",
   "id": "1220240a-d69d-46bc-8637-48f61354830c",
   "metadata": {},
   "source": [
    "## Prompt the RAG"
   ]
  },
  {
   "cell_type": "code",
   "execution_count": 16,
   "id": "69d93b4f-83c7-4061-873c-47f177d62c5c",
   "metadata": {},
   "outputs": [
    {
     "name": "stdout",
     "output_type": "stream",
     "text": [
      "There is no emission-related news specifically about Germany in the provided context.  The news from Germany concerns the automotive e-drive market, but doesn't focus on emissions.\n",
      "\n",
      "The link is: https://www.openpr.com/news/3944732/e-drive-for-automotive-market-exclusive-report-on-the-latest\n",
      "\n",
      "It was published at: 2025-03-28 10:15:37\n"
     ]
    }
   ],
   "source": [
    "question = \"What emission-related news was published about germany? give me the link as well and tell me when it is published\"\n",
    "answer = ask_rag_with_gemini(question)\n",
    "print(answer)\n",
    "\n"
   ]
  },
  {
   "cell_type": "code",
   "execution_count": null,
   "id": "893ba2ad-c45a-4913-9119-f75d50257457",
   "metadata": {},
   "outputs": [],
   "source": []
  }
 ],
 "metadata": {
  "kernelspec": {
   "display_name": "Python 3 (ipykernel)",
   "language": "python",
   "name": "python3"
  },
  "language_info": {
   "codemirror_mode": {
    "name": "ipython",
    "version": 3
   },
   "file_extension": ".py",
   "mimetype": "text/x-python",
   "name": "python",
   "nbconvert_exporter": "python",
   "pygments_lexer": "ipython3",
   "version": "3.12.8"
  }
 },
 "nbformat": 4,
 "nbformat_minor": 5
}
